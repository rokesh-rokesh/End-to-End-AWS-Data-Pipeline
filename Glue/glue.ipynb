{
 "cells": [
  {
   "cell_type": "markdown",
   "metadata": {
    "editable": true
   },
   "source": [
    "# AWS Glue Studio Notebook\n",
    "##### You are now running a AWS Glue Studio notebook; To start using your notebook you need to start an AWS Glue Interactive Session.\n"
   ]
  },
  {
   "cell_type": "markdown",
   "metadata": {
    "editable": true
   },
   "source": [
    "#### Optional: Run this cell to see available notebook commands (\"magics\").\n"
   ]
  },
  {
   "cell_type": "code",
   "execution_count": null,
   "metadata": {
    "editable": true
   },
   "outputs": [],
   "source": [
    "%help"
   ]
  },
  {
   "cell_type": "markdown",
   "metadata": {
    "editable": true
   },
   "source": [
    "####  Run this cell to set up and start your interactive session.\n"
   ]
  },
  {
   "cell_type": "code",
   "execution_count": 16,
   "metadata": {
    "editable": true
   },
   "outputs": [
    {
     "name": "stderr",
     "output_type": "stream",
     "text": [
      "You are already connected to a glueetl session 5b73622f-88cd-4735-ad7f-55b8fad69d90.\n",
      "\n",
      "No change will be made to the current session that is set as glueetl. The session configuration change will apply to newly created sessions.\n"
     ]
    },
    {
     "name": "stdout",
     "output_type": "stream",
     "text": [
      "Current idle_timeout is 2880 minutes.\n",
      "idle_timeout has been set to 2880 minutes.\n"
     ]
    },
    {
     "name": "stderr",
     "output_type": "stream",
     "text": [
      "You are already connected to a glueetl session 5b73622f-88cd-4735-ad7f-55b8fad69d90.\n",
      "\n",
      "No change will be made to the current session that is set as glueetl. The session configuration change will apply to newly created sessions.\n"
     ]
    },
    {
     "name": "stdout",
     "output_type": "stream",
     "text": [
      "Setting Glue version to: 4.0\n"
     ]
    },
    {
     "name": "stderr",
     "output_type": "stream",
     "text": [
      "You are already connected to a glueetl session 5b73622f-88cd-4735-ad7f-55b8fad69d90.\n",
      "\n",
      "No change will be made to the current session that is set as glueetl. The session configuration change will apply to newly created sessions.\n"
     ]
    },
    {
     "name": "stdout",
     "output_type": "stream",
     "text": [
      "Previous worker type: G.1X\n",
      "Setting new worker type to: G.1X\n"
     ]
    },
    {
     "name": "stderr",
     "output_type": "stream",
     "text": [
      "You are already connected to a glueetl session 5b73622f-88cd-4735-ad7f-55b8fad69d90.\n",
      "\n",
      "No change will be made to the current session that is set as glueetl. The session configuration change will apply to newly created sessions.\n"
     ]
    },
    {
     "name": "stdout",
     "output_type": "stream",
     "text": [
      "Previous number of workers: 5\n",
      "Setting new number of workers to: 5\n",
      "\n"
     ]
    }
   ],
   "source": [
    "%idle_timeout 2880\n",
    "%glue_version 4.0\n",
    "%worker_type G.1X\n",
    "%number_of_workers 5\n",
    "\n",
    "import sys\n",
    "from awsglue.transforms import *\n",
    "from awsglue.utils import getResolvedOptions\n",
    "from pyspark.context import SparkContext\n",
    "from awsglue.context import GlueContext\n",
    "from awsglue.job import Job\n",
    "import pandas as pd\n",
    "  \n",
    "sc = SparkContext.getOrCreate()\n",
    "glueContext = GlueContext(sc)\n",
    "spark = glueContext.spark_session\n",
    "job = Job(glueContext)"
   ]
  },
  {
   "cell_type": "markdown",
   "metadata": {
    "editable": true
   },
   "source": [
    "#### Example: Create a DynamicFrame from a table in the AWS Glue Data Catalog and display its schema\n"
   ]
  },
  {
   "cell_type": "code",
   "execution_count": 2,
   "metadata": {
    "editable": true
   },
   "outputs": [
    {
     "name": "stdout",
     "output_type": "stream",
     "text": [
      "root\n",
      "|-- date: string\n",
      "|-- symbol: string\n",
      "|-- reportedCurrency: string\n",
      "|-- cik: string\n",
      "|-- fillingDate: string\n",
      "|-- acceptedDate: string\n",
      "|-- calendarYear: string\n",
      "|-- period: string\n",
      "|-- cashAndCashEquivalents: choice\n",
      "|    |-- int\n",
      "|    |-- long\n",
      "|-- shortTermInvestments: choice\n",
      "|    |-- int\n",
      "|    |-- long\n",
      "|-- cashAndShortTermInvestments: long\n",
      "|-- netReceivables: choice\n",
      "|    |-- int\n",
      "|    |-- long\n",
      "|-- inventory: choice\n",
      "|    |-- int\n",
      "|    |-- long\n",
      "|-- otherCurrentAssets: choice\n",
      "|    |-- int\n",
      "|    |-- long\n",
      "|-- totalCurrentAssets: long\n",
      "|-- propertyPlantEquipmentNet: choice\n",
      "|    |-- int\n",
      "|    |-- long\n",
      "|-- goodwill: choice\n",
      "|    |-- int\n",
      "|    |-- long\n",
      "|-- intangibleAssets: choice\n",
      "|    |-- int\n",
      "|    |-- long\n",
      "|-- goodwillAndIntangibleAssets: choice\n",
      "|    |-- int\n",
      "|    |-- long\n",
      "|-- longTermInvestments: choice\n",
      "|    |-- int\n",
      "|    |-- long\n",
      "|-- taxAssets: choice\n",
      "|    |-- int\n",
      "|    |-- long\n",
      "|-- otherNonCurrentAssets: choice\n",
      "|    |-- int\n",
      "|    |-- long\n",
      "|-- totalNonCurrentAssets: long\n",
      "|-- otherAssets: int\n",
      "|-- totalAssets: long\n",
      "|-- accountPayables: choice\n",
      "|    |-- int\n",
      "|    |-- long\n",
      "|-- shortTermDebt: choice\n",
      "|    |-- int\n",
      "|    |-- long\n",
      "|-- taxPayables: choice\n",
      "|    |-- int\n",
      "|    |-- long\n",
      "|-- deferredRevenue: choice\n",
      "|    |-- int\n",
      "|    |-- long\n",
      "|-- otherCurrentLiabilities: choice\n",
      "|    |-- int\n",
      "|    |-- long\n",
      "|-- totalCurrentLiabilities: choice\n",
      "|    |-- int\n",
      "|    |-- long\n",
      "|-- longTermDebt: choice\n",
      "|    |-- int\n",
      "|    |-- long\n",
      "|-- deferredRevenueNonCurrent: choice\n",
      "|    |-- int\n",
      "|    |-- long\n",
      "|-- deferredTaxLiabilitiesNonCurrent: choice\n",
      "|    |-- int\n",
      "|    |-- long\n",
      "|-- otherNonCurrentLiabilities: choice\n",
      "|    |-- int\n",
      "|    |-- long\n",
      "|-- totalNonCurrentLiabilities: long\n",
      "|-- otherLiabilities: int\n",
      "|-- capitalLeaseObligations: choice\n",
      "|    |-- int\n",
      "|    |-- long\n",
      "|-- totalLiabilities: long\n",
      "|-- preferredStock: int\n",
      "|-- commonStock: choice\n",
      "|    |-- int\n",
      "|    |-- long\n",
      "|-- retainedEarnings: choice\n",
      "|    |-- int\n",
      "|    |-- long\n",
      "|-- accumulatedOtherComprehensiveIncomeLoss: choice\n",
      "|    |-- int\n",
      "|    |-- long\n",
      "|-- othertotalStockholdersEquity: choice\n",
      "|    |-- int\n",
      "|    |-- long\n",
      "|-- totalStockholdersEquity: long\n",
      "|-- totalEquity: long\n",
      "|-- totalLiabilitiesAndStockholdersEquity: long\n",
      "|-- minorityInterest: int\n",
      "|-- totalLiabilitiesAndTotalEquity: long\n",
      "|-- totalInvestments: choice\n",
      "|    |-- int\n",
      "|    |-- long\n",
      "|-- totalDebt: choice\n",
      "|    |-- int\n",
      "|    |-- long\n",
      "|-- netDebt: choice\n",
      "|    |-- int\n",
      "|    |-- long\n",
      "|-- link: string\n",
      "|-- finalLink: string\n"
     ]
    }
   ],
   "source": [
    "dyf = glueContext.create_dynamic_frame.from_catalog(database='sales', table_name='balancesheet10')\n",
    "dyf.printSchema()"
   ]
  },
  {
   "cell_type": "markdown",
   "metadata": {
    "editable": true
   },
   "source": [
    "#### Example: Convert the DynamicFrame to a Spark DataFrame and display a sample of the data\n"
   ]
  },
  {
   "cell_type": "code",
   "execution_count": 4,
   "metadata": {
    "editable": true
   },
   "outputs": [
    {
     "name": "stdout",
     "output_type": "stream",
     "text": [
      "+----------+------+----------------+----------+-----------+-------------------+------------+------+----------------------+--------------------+---------------------------+-------------------+------------------+-------------------+------------------+-------------------------+---------+----------------+---------------------------+--------------------+---------+---------------------+---------------------+-----------+------------+-------------------+-------------------+-----------+------------------+-----------------------+-----------------------+-------------------+-------------------------+--------------------------------+--------------------------+--------------------------+----------------+-----------------------+----------------+--------------+-------------------+-------------------+---------------------------------------+----------------------------+-----------------------+-----------+-------------------------------------+----------------+------------------------------+--------------------+--------------------+-------------------+--------------------+--------------------+\n",
      "|      date|symbol|reportedCurrency|       cik|fillingDate|       acceptedDate|calendarYear|period|cashAndCashEquivalents|shortTermInvestments|cashAndShortTermInvestments|     netReceivables|         inventory| otherCurrentAssets|totalCurrentAssets|propertyPlantEquipmentNet| goodwill|intangibleAssets|goodwillAndIntangibleAssets| longTermInvestments|taxAssets|otherNonCurrentAssets|totalNonCurrentAssets|otherAssets| totalAssets|    accountPayables|      shortTermDebt|taxPayables|   deferredRevenue|otherCurrentLiabilities|totalCurrentLiabilities|       longTermDebt|deferredRevenueNonCurrent|deferredTaxLiabilitiesNonCurrent|otherNonCurrentLiabilities|totalNonCurrentLiabilities|otherLiabilities|capitalLeaseObligations|totalLiabilities|preferredStock|        commonStock|   retainedEarnings|accumulatedOtherComprehensiveIncomeLoss|othertotalStockholdersEquity|totalStockholdersEquity|totalEquity|totalLiabilitiesAndStockholdersEquity|minorityInterest|totalLiabilitiesAndTotalEquity|    totalInvestments|           totalDebt|            netDebt|                link|           finalLink|\n",
      "+----------+------+----------------+----------+-----------+-------------------+------------+------+----------------------+--------------------+---------------------------+-------------------+------------------+-------------------+------------------+-------------------------+---------+----------------+---------------------------+--------------------+---------+---------------------+---------------------+-----------+------------+-------------------+-------------------+-----------+------------------+-----------------------+-----------------------+-------------------+-------------------------+--------------------------------+--------------------------+--------------------------+----------------+-----------------------+----------------+--------------+-------------------+-------------------+---------------------------------------+----------------------------+-----------------------+-----------+-------------------------------------+----------------+------------------------------+--------------------+--------------------+-------------------+--------------------+--------------------+\n",
      "|2022-09-24|  AAPL|             USD|0000320193| 2022-10-28|2022-10-27 18:01:14|        2022|    FY|   {null, 23646000000}| {null, 24658000000}|                48304000000|{null, 60932000000}|{null, 4946000000}|{null, 21223000000}|      135405000000|      {null, 42117000000}|{0, null}|       {0, null}|                  {0, null}|{null, 120805000000}|{0, null}|  {null, 54428000000}|         217350000000|          0|352755000000|{null, 64115000000}|{null, 21110000000}|  {0, null}|{null, 7912000000}|    {null, 60845000000}|   {null, 153982000000}|{null, 98959000000}|                {0, null}|                       {0, null}|       {null, 49142000000}|              148101000000|               0|              {0, null}|    302083000000|             0|{null, 64849000000}|{null, -3068000000}|                   {null, -11109000000}|                   {0, null}|            50672000000|50672000000|                         352755000000|               0|                  352755000000|{null, 145463000000}|{null, 120069000000}|{null, 96423000000}|https://www.sec.g...|https://www.sec.g...|\n",
      "+----------+------+----------------+----------+-----------+-------------------+------------+------+----------------------+--------------------+---------------------------+-------------------+------------------+-------------------+------------------+-------------------------+---------+----------------+---------------------------+--------------------+---------+---------------------+---------------------+-----------+------------+-------------------+-------------------+-----------+------------------+-----------------------+-----------------------+-------------------+-------------------------+--------------------------------+--------------------------+--------------------------+----------------+-----------------------+----------------+--------------+-------------------+-------------------+---------------------------------------+----------------------------+-----------------------+-----------+-------------------------------------+----------------+------------------------------+--------------------+--------------------+-------------------+--------------------+--------------------+\n",
      "only showing top 1 row\n"
     ]
    }
   ],
   "source": [
    "df = dyf.toDF()\n",
    "df.show(1)"
   ]
  },
  {
   "cell_type": "code",
   "execution_count": 21,
   "metadata": {
    "tags": []
   },
   "outputs": [
    {
     "name": "stdout",
     "output_type": "stream",
     "text": [
      "null_fields []\n",
      "<class 'awsglue.dynamicframe.DynamicFrame'>\n"
     ]
    }
   ],
   "source": [
    "df2 = DropNullFields.apply(dyf)\n",
    "print(type(df2))"
   ]
  },
  {
   "cell_type": "code",
   "execution_count": 22,
   "metadata": {
    "tags": []
   },
   "outputs": [
    {
     "name": "stdout",
     "output_type": "stream",
     "text": [
      "{\"date\": \"2022-09-24\", \"symbol\": \"AAPL\", \"reportedCurrency\": \"USD\", \"cik\": \"0000320193\", \"fillingDate\": \"2022-10-28\", \"acceptedDate\": \"2022-10-27 18:01:14\", \"calendarYear\": \"2022\", \"period\": \"FY\", \"cashAndCashEquivalents\": 23646000000, \"shortTermInvestments\": 24658000000, \"cashAndShortTermInvestments\": 48304000000, \"netReceivables\": 60932000000, \"inventory\": 4946000000, \"otherCurrentAssets\": 21223000000, \"totalCurrentAssets\": 135405000000, \"propertyPlantEquipmentNet\": 42117000000, \"goodwill\": 0, \"intangibleAssets\": 0, \"goodwillAndIntangibleAssets\": 0, \"longTermInvestments\": 120805000000, \"taxAssets\": 0, \"otherNonCurrentAssets\": 54428000000, \"totalNonCurrentAssets\": 217350000000, \"otherAssets\": 0, \"totalAssets\": 352755000000, \"accountPayables\": 64115000000, \"shortTermDebt\": 21110000000, \"taxPayables\": 0, \"deferredRevenue\": 7912000000, \"otherCurrentLiabilities\": 60845000000, \"totalCurrentLiabilities\": 153982000000, \"longTermDebt\": 98959000000, \"deferredRevenueNonCurrent\": 0, \"deferredTaxLiabilitiesNonCurrent\": 0, \"otherNonCurrentLiabilities\": 49142000000, \"totalNonCurrentLiabilities\": 148101000000, \"otherLiabilities\": 0, \"capitalLeaseObligations\": 0, \"totalLiabilities\": 302083000000, \"preferredStock\": 0, \"commonStock\": 64849000000, \"retainedEarnings\": -3068000000, \"accumulatedOtherComprehensiveIncomeLoss\": -11109000000, \"othertotalStockholdersEquity\": 0, \"totalStockholdersEquity\": 50672000000, \"totalEquity\": 50672000000, \"totalLiabilitiesAndStockholdersEquity\": 352755000000, \"minorityInterest\": 0, \"totalLiabilitiesAndTotalEquity\": 352755000000, \"totalInvestments\": 145463000000, \"totalDebt\": 120069000000, \"netDebt\": 96423000000, \"link\": \"https://www.sec.gov/Archives/edgar/data/320193/000032019322000108/0000320193-22-000108-index.htm\", \"finalLink\": \"https://www.sec.gov/Archives/edgar/data/320193/000032019322000108/aapl-20220924.htm\"}\n"
     ]
    }
   ],
   "source": [
    "df2.show(1)"
   ]
  },
  {
   "cell_type": "code",
   "execution_count": 60,
   "metadata": {
    "tags": []
   },
   "outputs": [
    {
     "name": "stdout",
     "output_type": "stream",
     "text": [
      "\n"
     ]
    }
   ],
   "source": [
    "glueContext.write_dynamic_frame.from_options(frame = df2, connection_type = \"s3\", connection_options = {\"path\": \"s3:\"},format=\"json\",transformation_ctx = \"DataSink0\")\n",
    "job.commit()"
   ]
  },
  {
   "cell_type": "code",
   "execution_count": 61,
   "metadata": {
    "tags": []
   },
   "outputs": [
    {
     "name": "stdout",
     "output_type": "stream",
     "text": [
      "\n"
     ]
    }
   ],
   "source": [
    "glueContext.write_dynamic_frame.from_options(\n",
    "    frame=df2,\n",
    "    connection_type=\"s3\",\n",
    "    connection_options={\"path\": \"s3:\"},\n",
    "    format=\"json\",\n",
    "    transformation_ctx=\"DataSink0\"\n",
    ")\n",
    "\n",
    "job.commit()"
   ]
  },
  {
   "cell_type": "code",
   "execution_count": null,
   "metadata": {},
   "outputs": [],
   "source": [
    "my_conn = {\n",
    "    \"url\" : \"jdbc:redshift://.redshift-serverless.amazonaws.com:5439/dev\",\n",
    "    \"user\": \"admin\",\n",
    "    \"password\": \"\",\n",
    "    \"dbtable\" : \"]\",\n",
    "    \"database\" : \"\"\n",
    "}\n",
    "\n",
    "\n",
    "redshift_data = glueContext.write_dynamic_frame.from_jdbc_conf(df2,\n",
    "    catalog_connection = \"redshiftconnection\",\n",
    "    connection_options = my_conn,\n",
    "    redshift_tmp_dir = \"s3://\")"
   ]
  }
 ],
 "metadata": {
  "kernelspec": {
   "display_name": "Python 3 (ipykernel)",
   "language": "python",
   "name": "python3"
  },
  "language_info": {
   "codemirror_mode": {
    "name": "ipython",
    "version": 3
   },
   "file_extension": ".py",
   "mimetype": "text/x-python",
   "name": "python",
   "nbconvert_exporter": "python",
   "pygments_lexer": "ipython3",
   "version": "3.10.12"
  },
  "toc-showcode": true,
  "toc-showmarkdowntxt": true
 },
 "nbformat": 4,
 "nbformat_minor": 4
}
